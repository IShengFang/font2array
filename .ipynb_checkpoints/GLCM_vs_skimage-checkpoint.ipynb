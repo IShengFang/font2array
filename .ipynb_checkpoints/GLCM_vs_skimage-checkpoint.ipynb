{
 "cells": [
  {
   "cell_type": "code",
   "execution_count": 1,
   "metadata": {
    "collapsed": false
   },
   "outputs": [
    {
     "name": "stderr",
     "output_type": "stream",
     "text": [
      "Using TensorFlow backend.\n"
     ]
    }
   ],
   "source": [
    "import numpy as np\n",
    "from keras import backend as K\n",
    "from keras.layers import Layer, Input\n",
    "from skimage.feature import greycomatrix\n",
    "import tensorflow as tf\n",
    "\n",
    "class GLCM(Layer):\n",
    "\n",
    "\n",
    "    def __init__(self, BATCH_SIZE = 100, levels = 2, symmetric = True, normed = True, **kwargs ):\n",
    "        super(GLCM, self).__init__(**kwargs)\n",
    "        self.levels = levels\n",
    "        self.symmetric = symmetric\n",
    "        self.normed = normed\n",
    "        self.batch_size = BATCH_SIZE\n",
    "\n",
    "    def compute_output_shape(self, input_shape):\n",
    "\n",
    "        return (self.batch_size, 4)\n",
    "\n",
    "    def binarization(self, x):\n",
    "        bi_x = K.sign(x)\n",
    "        return bi_x\n",
    "    \n",
    "    def glcm(self, inputs, distance, angle):\n",
    "        image = self.binarization(inputs)\n",
    "        batch = image.shape[0].value\n",
    "        \n",
    "        #calculate GLCM(in a batch shape)\n",
    "        rows = image.shape[1].value\n",
    "        cols = image.shape[2].value\n",
    "                \n",
    "        row = int(round(np.sin(angle))) * distance\n",
    "        col = int(round(np.cos(angle))) * distance\n",
    "        if col > 0:\n",
    "            a = image[:, :rows-row, :cols-col, :]\n",
    "            b = image[:, row:, col:, :]\n",
    "        else:\n",
    "            a = image[:, :rows-row, -col:, :]\n",
    "            b = image[:, row:, :cols+col, :]\n",
    "\n",
    "        a_or_b = K.maximum(a, b)\n",
    "        a_and_b = a*b\n",
    "\n",
    "        one = tf.ones(shape = a.shape)\n",
    "\n",
    "        not_a = one-a\n",
    "        not_b = one-b\n",
    "\n",
    "        # not(a or b)\n",
    "        M0_0 = K.map_fn(K.sum, (one-a_or_b))\n",
    "\n",
    "        # b and (not a)\n",
    "        M0_1 = K.map_fn(K.sum, (b*(not_a)))\n",
    "\n",
    "        # a and (not b)\n",
    "        M1_0 = K.map_fn(K.sum, (a*(not_b)))\n",
    "\n",
    "        # a and b\n",
    "        M1_1 = K.map_fn(K.sum, (a_and_b))\n",
    "        \n",
    "        if self.symmetric:\n",
    "            temp = tf.stack([M0_0*2, M0_1+M1_0, M0_1+M1_0, M1_1*2], axis = 1)\n",
    "            if self.normed:\n",
    "                output = temp / K.reshape(K.sum(temp, axis=1), (batch, 1))\n",
    "            else:\n",
    "                output = temp\n",
    "        else:\n",
    "            temp = tf.stack([M0_0, M0_1, M1_0, M1_1], axis = 1)\n",
    "            if self.normed:\n",
    "                output = temp / K.reshape(K.sum(temp, axis=1), (batch, 1))\n",
    "            else:\n",
    "                output = temp\n",
    "\n",
    "        return output\n",
    "    \n",
    "    def call(self, inputs):\n",
    "        #make input becomes a binarized image\n",
    "        # distances = [1, 2, 3]\n",
    "        # angles = [0, np.pi/4, np.pi/2, 3*np.pi/4]\n",
    "        g1_0 = self.glcm(inputs, 1, 0)\n",
    "        g1_1 = self.glcm(inputs, 1, np.pi/4)\n",
    "        g1_2 = self.glcm(inputs, 1, np.pi/2)\n",
    "        g1_3 = self.glcm(inputs, 1, 3*np.pi/4)\n",
    "        g2_0 = self.glcm(inputs, 2, 0)\n",
    "        g2_1 = self.glcm(inputs, 2, np.pi/4)\n",
    "        g2_2 = self.glcm(inputs, 2, np.pi/2)\n",
    "        g2_3 = self.glcm(inputs, 2, 3*np.pi/4)\n",
    "        g3_0 = self.glcm(inputs, 3, 0)\n",
    "        g3_1 = self.glcm(inputs, 3, np.pi/4)\n",
    "        g3_2 = self.glcm(inputs, 3, np.pi/2)\n",
    "        g3_3 = self.glcm(inputs, 3, 3*np.pi/4)\n",
    "        \n",
    "        return K.concatenate([g1_0, g1_1, g1_2, g1_3, g2_0, g2_1, g2_2, g2_3, g3_0, g3_1, g3_2, g3_3], axis=1)"
   ]
  },
  {
   "cell_type": "code",
   "execution_count": 2,
   "metadata": {
    "collapsed": true
   },
   "outputs": [],
   "source": [
    "x_train = np.random.randint(2, size=(2, 28, 28, 1))"
   ]
  },
  {
   "cell_type": "code",
   "execution_count": 3,
   "metadata": {
    "collapsed": true
   },
   "outputs": [],
   "source": [
    "x = Input(batch_shape=(2, 28, 28, 1))\n",
    "y = GLCM(symmetric=False, normed=True)(x)"
   ]
  },
  {
   "cell_type": "code",
   "execution_count": 4,
   "metadata": {
    "collapsed": false
   },
   "outputs": [
    {
     "data": {
      "text/plain": [
       "[array([[ 0.25793651,  0.24867725,  0.25264549,  0.24074075,  0.25788751,\n",
       "          0.24965706,  0.25240055,  0.24005488,  0.25      ,  0.26190478,\n",
       "          0.260582  ,  0.22751322,  0.25240055,  0.25925925,  0.25377229,\n",
       "          0.2345679 ,  0.27472529,  0.23626374,  0.23626374,  0.25274727,\n",
       "          0.25591716,  0.2514793 ,  0.2514793 ,  0.24112426,  0.24587911,\n",
       "          0.26236263,  0.26098901,  0.23076923,  0.24556214,  0.26183432,\n",
       "          0.26331362,  0.22928993,  0.24714285,  0.26571429,  0.26571429,\n",
       "          0.22142857,  0.27520001,  0.2384    ,  0.2304    ,  0.25600001,\n",
       "          0.26571429,  0.24571429,  0.23714286,  0.25142857,  0.25440001,\n",
       "          0.25920001,  0.25119999,  0.2352    ],\n",
       "        [ 0.25661376,  0.23677249,  0.24206349,  0.26455027,  0.25377229,\n",
       "          0.24142662,  0.24691358,  0.25788751,  0.23941799,  0.260582  ,\n",
       "          0.260582  ,  0.23941799,  0.25651577,  0.24279836,  0.23868313,\n",
       "          0.26200274,  0.24038461,  0.25686812,  0.25      ,  0.25274727,\n",
       "          0.24408284,  0.25887573,  0.24556214,  0.2514793 ,  0.22802198,\n",
       "          0.27609891,  0.26785713,  0.22802198,  0.24260356,  0.25295857,\n",
       "          0.2514793 ,  0.25295857,  0.23      ,  0.26285714,  0.25857142,\n",
       "          0.24857143,  0.25920001,  0.2432    ,  0.2352    ,  0.2624    ,\n",
       "          0.27000001,  0.23999999,  0.23      ,  0.25999999,  0.24160001,\n",
       "          0.25760001,  0.24959999,  0.25119999]], dtype=float32)]"
      ]
     },
     "execution_count": 4,
     "metadata": {},
     "output_type": "execute_result"
    }
   ],
   "source": [
    "result = K.function([x], [y])([x_train])\n",
    "result"
   ]
  },
  {
   "cell_type": "code",
   "execution_count": 5,
   "metadata": {
    "collapsed": false
   },
   "outputs": [
    {
     "data": {
      "text/plain": [
       "(2, 48)"
      ]
     },
     "execution_count": 5,
     "metadata": {},
     "output_type": "execute_result"
    }
   ],
   "source": [
    "result[0].shape"
   ]
  },
  {
   "cell_type": "code",
   "execution_count": 6,
   "metadata": {
    "collapsed": false
   },
   "outputs": [
    {
     "data": {
      "text/plain": [
       "array([[[[ 0.26571429]],\n",
       "\n",
       "        [[ 0.24571429]]],\n",
       "\n",
       "\n",
       "       [[[ 0.23714286]],\n",
       "\n",
       "        [[ 0.25142857]]]])"
      ]
     },
     "execution_count": 6,
     "metadata": {},
     "output_type": "execute_result"
    }
   ],
   "source": [
    "result = greycomatrix(x_train[0].reshape([28, 28]),\n",
    "                      [3],\n",
    "                      [np.pi/2],\n",
    "                      levels = 2,\n",
    "                      symmetric = False,\n",
    "                      normed = True)\n",
    "result"
   ]
  }
 ],
 "metadata": {
  "kernelspec": {
   "display_name": "Python 3",
   "language": "python",
   "name": "python3"
  },
  "language_info": {
   "codemirror_mode": {
    "name": "ipython",
    "version": 3
   },
   "file_extension": ".py",
   "mimetype": "text/x-python",
   "name": "python",
   "nbconvert_exporter": "python",
   "pygments_lexer": "ipython3",
   "version": "3.6.0"
  }
 },
 "nbformat": 4,
 "nbformat_minor": 1
}
