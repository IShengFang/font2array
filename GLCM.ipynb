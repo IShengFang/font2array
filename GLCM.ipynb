{
 "cells": [
  {
   "cell_type": "code",
   "execution_count": 29,
   "metadata": {
    "collapsed": true
   },
   "outputs": [],
   "source": [
    "import skimage.feature\n",
    "import numpy as np\n",
    "import time"
   ]
  },
  {
   "cell_type": "code",
   "execution_count": 30,
   "metadata": {
    "collapsed": false
   },
   "outputs": [],
   "source": [
    "image = np.random.randint(256, size = (256, 256))"
   ]
  },
  {
   "cell_type": "code",
   "execution_count": 31,
   "metadata": {
    "collapsed": false
   },
   "outputs": [
    {
     "data": {
      "text/plain": [
       "array([[231, 170, 193, ...,  61,  49, 202],\n",
       "       [209, 225, 182, ...,  20,  80, 177],\n",
       "       [137, 235, 145, ...,  70,   5,  35],\n",
       "       ..., \n",
       "       [111,  53, 146, ..., 103,  25, 234],\n",
       "       [223,  71, 251, ..., 236, 164,  86],\n",
       "       [ 79,  18, 106, ...,  25, 230, 112]])"
      ]
     },
     "execution_count": 31,
     "metadata": {},
     "output_type": "execute_result"
    }
   ],
   "source": [
    "image"
   ]
  },
  {
   "cell_type": "code",
   "execution_count": 32,
   "metadata": {
    "collapsed": false
   },
   "outputs": [
    {
     "name": "stdout",
     "output_type": "stream",
     "text": [
      "[[[[ 0.03875613  0.03881584  0.03860294  0.03793925]]\n",
      "\n",
      "  [[ 0.03838848  0.03770088  0.03839614  0.03758554]]\n",
      "\n",
      "  [[ 0.03842678  0.03897732  0.03833487  0.03854671]]\n",
      "\n",
      "  [[ 0.03781403  0.03775471  0.03746936  0.03789312]]\n",
      "\n",
      "  [[ 0.03832721  0.03828527  0.03871783  0.03944637]]\n",
      "\n",
      "  [[ 0.00445006  0.00459823  0.00461857  0.00472126]]]\n",
      "\n",
      "\n",
      " [[[ 0.03838848  0.03770088  0.03839614  0.03758554]]\n",
      "\n",
      "  [[ 0.0372549   0.03850827  0.03667279  0.03738562]]\n",
      "\n",
      "  [[ 0.03801317  0.03738562  0.03793658  0.03786236]]\n",
      "\n",
      "  [[ 0.03690257  0.03676278  0.03772978  0.03823914]]\n",
      "\n",
      "  [[ 0.03859528  0.0387697   0.03848805  0.03813918]]\n",
      "\n",
      "  [[ 0.00459559  0.00472895  0.00458027  0.00465206]]]\n",
      "\n",
      "\n",
      " [[[ 0.03842678  0.03897732  0.03833487  0.03854671]]\n",
      "\n",
      "  [[ 0.03801317  0.03738562  0.03793658  0.03786236]]\n",
      "\n",
      "  [[ 0.03711703  0.03826221  0.03776042  0.03797001]]\n",
      "\n",
      "  [[ 0.03763787  0.03742407  0.0370481   0.03677816]]\n",
      "\n",
      "  [[ 0.03871017  0.03802384  0.03870251  0.03883891]]\n",
      "\n",
      "  [[ 0.00476409  0.0046213   0.00487898  0.0046905 ]]]\n",
      "\n",
      "\n",
      " [[[ 0.03781403  0.03775471  0.03746936  0.03789312]]\n",
      "\n",
      "  [[ 0.03690257  0.03676278  0.03772978  0.03823914]]\n",
      "\n",
      "  [[ 0.03763787  0.03742407  0.0370481   0.03677816]]\n",
      "\n",
      "  [[ 0.03743873  0.03772395  0.03763787  0.03738562]]\n",
      "\n",
      "  [[ 0.03878676  0.03922338  0.03870251  0.03835448]]\n",
      "\n",
      "  [[ 0.00466452  0.00424452  0.00463388  0.00448289]]]\n",
      "\n",
      "\n",
      " [[[ 0.03832721  0.03828527  0.03871783  0.03944637]]\n",
      "\n",
      "  [[ 0.03859528  0.0387697   0.03848805  0.03813918]]\n",
      "\n",
      "  [[ 0.03871017  0.03802384  0.03870251  0.03883891]]\n",
      "\n",
      "  [[ 0.03878676  0.03922338  0.03870251  0.03835448]]\n",
      "\n",
      "  [[ 0.03926164  0.03938485  0.03941483  0.03916955]]\n",
      "\n",
      "  [[ 0.00475643  0.00478278  0.00441176  0.00452134]]]\n",
      "\n",
      "\n",
      " [[[ 0.00445006  0.00459823  0.00461857  0.00472126]]\n",
      "\n",
      "  [[ 0.00459559  0.00472895  0.00458027  0.00465206]]\n",
      "\n",
      "  [[ 0.00476409  0.0046213   0.00487898  0.0046905 ]]\n",
      "\n",
      "  [[ 0.00466452  0.00424452  0.00463388  0.00448289]]\n",
      "\n",
      "  [[ 0.00475643  0.00478278  0.00441176  0.00452134]]\n",
      "\n",
      "  [[ 0.00050551  0.00073818  0.00061275  0.00064591]]]]\n",
      "0.0031630992889404297ms\n"
     ]
    }
   ],
   "source": [
    "#start time\n",
    "start = time.time()\n",
    "\n",
    "#make the value of each to 0~4\n",
    "image = (image/50)\n",
    "image = image.astype(int)\n",
    "\n",
    "#calculate GLCM\n",
    "result = skimage.feature.greycomatrix(image, [1], [0, np.pi/4, np.pi/2, 3*np.pi/4], levels = 6, symmetric = True, normed = True)\n",
    "\n",
    "#end time\n",
    "end = time.time()\n",
    "\n",
    "print(result)\n",
    "print(str(end-start) + \"ms\")"
   ]
  },
  {
   "cell_type": "code",
   "execution_count": 33,
   "metadata": {
    "collapsed": false
   },
   "outputs": [
    {
     "data": {
      "text/plain": [
       "(6, 6, 1, 4)"
      ]
     },
     "execution_count": 33,
     "metadata": {},
     "output_type": "execute_result"
    }
   ],
   "source": [
    "result.shape"
   ]
  },
  {
   "cell_type": "code",
   "execution_count": 34,
   "metadata": {
    "collapsed": false
   },
   "outputs": [
    {
     "data": {
      "text/plain": [
       "5"
      ]
     },
     "execution_count": 34,
     "metadata": {},
     "output_type": "execute_result"
    }
   ],
   "source": [
    "image.max()"
   ]
  },
  {
   "cell_type": "code",
   "execution_count": null,
   "metadata": {
    "collapsed": false
   },
   "outputs": [],
   "source": []
  },
  {
   "cell_type": "code",
   "execution_count": null,
   "metadata": {
    "collapsed": true
   },
   "outputs": [],
   "source": []
  }
 ],
 "metadata": {
  "kernelspec": {
   "display_name": "Python 3",
   "language": "python",
   "name": "python3"
  },
  "language_info": {
   "codemirror_mode": {
    "name": "ipython",
    "version": 3
   },
   "file_extension": ".py",
   "mimetype": "text/x-python",
   "name": "python",
   "nbconvert_exporter": "python",
   "pygments_lexer": "ipython3",
   "version": "3.5.2"
  }
 },
 "nbformat": 4,
 "nbformat_minor": 0
}
