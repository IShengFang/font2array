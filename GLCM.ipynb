{
 "cells": [
  {
   "cell_type": "code",
   "execution_count": 15,
   "metadata": {
    "collapsed": true
   },
   "outputs": [],
   "source": [
    "import skimage.feature\n",
    "import numpy as np\n",
    "import time"
   ]
  },
  {
   "cell_type": "code",
   "execution_count": 16,
   "metadata": {
    "collapsed": false
   },
   "outputs": [],
   "source": [
    "%matplotlib inline\n",
    "import matplotlib.pyplot as plt\n",
    "from font2array import font2array_keras_fit, font2array"
   ]
  },
  {
   "cell_type": "code",
   "execution_count": 17,
   "metadata": {
    "collapsed": false
   },
   "outputs": [
    {
     "data": {
      "text/plain": [
       "True"
      ]
     },
     "execution_count": 17,
     "metadata": {},
     "output_type": "execute_result"
    }
   ],
   "source": [
    "FONT = 'KaiGenGothicKR-ExtraLight.ttf'\n",
    "ENCODING = 'unicode.txt'\n",
    "with open(ENCODING) as f:\n",
    "    ENCODING_LIST = f.read()\n",
    "f.closed"
   ]
  },
  {
   "cell_type": "code",
   "execution_count": 18,
   "metadata": {
    "collapsed": false
   },
   "outputs": [],
   "source": [
    "BATCH_SIZE = 16\n",
    "INPUT_DIM  = 256\n",
    "tt = font2array_keras_fit(FONT, INPUT_DIM, ENCODING_LIST, BATCH_SIZE)"
   ]
  },
  {
   "cell_type": "code",
   "execution_count": 19,
   "metadata": {
    "collapsed": false
   },
   "outputs": [],
   "source": [
    "ta, tb = next(tt)"
   ]
  },
  {
   "cell_type": "code",
   "execution_count": 20,
   "metadata": {
    "collapsed": false
   },
   "outputs": [
    {
     "data": {
      "text/plain": [
       "(16, 256, 256, 1)"
      ]
     },
     "execution_count": 20,
     "metadata": {},
     "output_type": "execute_result"
    }
   ],
   "source": [
    "ta.shape"
   ]
  },
  {
   "cell_type": "code",
   "execution_count": 21,
   "metadata": {
    "collapsed": false
   },
   "outputs": [
    {
     "data": {
      "text/plain": [
       "0.99609375"
      ]
     },
     "execution_count": 21,
     "metadata": {},
     "output_type": "execute_result"
    }
   ],
   "source": [
    "ta.max()"
   ]
  },
  {
   "cell_type": "code",
   "execution_count": 22,
   "metadata": {
    "collapsed": false
   },
   "outputs": [
    {
     "data": {
      "text/plain": [
       "<matplotlib.image.AxesImage at 0x7f3ab1561d68>"
      ]
     },
     "execution_count": 22,
     "metadata": {},
     "output_type": "execute_result"
    },
    {
     "data": {
      "image/png": "[encoded data removed]",
      "text/plain": [
       "<matplotlib.figure.Figure at 0x7f3aad88cd68>"
      ]
     },
     "metadata": {},
     "output_type": "display_data"
    }
   ],
   "source": [
    "plt.imshow(ta[1].reshape(INPUT_DIM,INPUT_DIM))"
   ]
  },
  {
   "cell_type": "code",
   "execution_count": 23,
   "metadata": {
    "collapsed": false
   },
   "outputs": [],
   "source": [
    "image = ta[1].reshape(INPUT_DIM,INPUT_DIM)"
   ]
  },
  {
   "cell_type": "code",
   "execution_count": 24,
   "metadata": {
    "collapsed": false
   },
   "outputs": [
    {
     "data": {
      "text/plain": [
       "0.99609375"
      ]
     },
     "execution_count": 24,
     "metadata": {},
     "output_type": "execute_result"
    }
   ],
   "source": [
    "image.max()"
   ]
  },
  {
   "cell_type": "code",
   "execution_count": 25,
   "metadata": {
    "collapsed": false
   },
   "outputs": [
    {
     "name": "stdout",
     "output_type": "stream",
     "text": [
      "[[[[  7.95526961e-01   7.82299116e-01   7.89966299e-01   7.85374856e-01]]\n",
      "\n",
      "  [[  1.77696078e-03   1.79930796e-03   1.74632353e-03   1.75317186e-03]]\n",
      "\n",
      "  [[  1.59313725e-03   2.96039985e-03   2.94883578e-03   2.73740869e-03]]\n",
      "\n",
      "  [[  1.93014706e-03   4.43675509e-03   3.84497549e-03   4.14455978e-03]]\n",
      "\n",
      "  [[  1.02634804e-03   1.70703576e-03   1.79993873e-03   1.57631680e-03]]\n",
      "\n",
      "  [[  1.57781863e-03   1.73779316e-03   1.27910539e-03   1.53018070e-03]]\n",
      "\n",
      "  [[  1.51654412e-03   2.24529027e-03   1.76930147e-03   1.98385236e-03]]\n",
      "\n",
      "  [[  2.20588235e-03   9.21184160e-03   3.79901961e-03   7.29719339e-03]]]\n",
      "\n",
      "\n",
      " [[[  1.77696078e-03   1.79930796e-03   1.74632353e-03   1.75317186e-03]]\n",
      "\n",
      "  [[  1.22549020e-04   9.22722030e-05   2.14460784e-04   1.84544406e-04]]\n",
      "\n",
      "  [[  3.82965686e-05   1.15340254e-04   5.36151961e-05   2.22991157e-04]]\n",
      "\n",
      "  [[  6.12745098e-05   8.45828527e-05   3.06372549e-05   1.99923106e-04]]\n",
      "\n",
      "  [[  2.06801471e-04   1.15340254e-04   8.42524510e-05   9.99615532e-05]]\n",
      "\n",
      "  [[  2.75735294e-04   1.30718954e-04   8.42524510e-05   1.38408304e-04]]\n",
      "\n",
      "  [[  2.91053922e-04   1.38408304e-04   1.99142157e-04   1.38408304e-04]]\n",
      "\n",
      "  [[  8.73161765e-04   1.18415994e-03   1.23314951e-03   9.22722030e-04]]]\n",
      "\n",
      "\n",
      " [[[  1.59313725e-03   2.96039985e-03   2.94883578e-03   2.73740869e-03]]\n",
      "\n",
      "  [[  3.82965686e-05   1.15340254e-04   5.36151961e-05   2.22991157e-04]]\n",
      "\n",
      "  [[  2.87990196e-03   7.68935025e-05   9.19117647e-05   2.30680507e-04]]\n",
      "\n",
      "  [[  3.06372549e-05   4.61361015e-05   6.12745098e-05   1.53787005e-04]]\n",
      "\n",
      "  [[  5.36151961e-05   7.68935025e-05   3.82965686e-05   1.69165705e-04]]\n",
      "\n",
      "  [[  1.91482843e-04   1.15340254e-04   7.65931373e-05   1.84544406e-04]]\n",
      "\n",
      "  [[  2.29779412e-04   1.15340254e-04   1.53186275e-04   1.53787005e-04]]\n",
      "\n",
      "  [[  1.09528186e-03   2.62975779e-03   2.68841912e-03   2.28373702e-03]]]\n",
      "\n",
      "\n",
      " [[[  1.93014706e-03   4.43675509e-03   3.84497549e-03   4.14455978e-03]]\n",
      "\n",
      "  [[  6.12745098e-05   8.45828527e-05   3.06372549e-05   1.99923106e-04]]\n",
      "\n",
      "  [[  3.06372549e-05   4.61361015e-05   6.12745098e-05   1.53787005e-04]]\n",
      "\n",
      "  [[  5.08578431e-03   1.53787005e-05   1.28676471e-03   1.84544406e-04]]\n",
      "\n",
      "  [[  3.06372549e-05   4.61361015e-05   5.36151961e-05   1.30718954e-04]]\n",
      "\n",
      "  [[  3.06372549e-05   9.99615532e-05   1.53186275e-05   1.15340254e-04]]\n",
      "\n",
      "  [[  1.99142157e-04   1.38408304e-04   9.19117647e-05   1.99923106e-04]]\n",
      "\n",
      "  [[  1.77696078e-03   4.31372549e-03   3.76072304e-03   4.05228758e-03]]]\n",
      "\n",
      "\n",
      " [[[  1.02634804e-03   1.70703576e-03   1.79993873e-03   1.57631680e-03]]\n",
      "\n",
      "  [[  2.06801471e-04   1.15340254e-04   8.42524510e-05   9.99615532e-05]]\n",
      "\n",
      "  [[  5.36151961e-05   7.68935025e-05   3.82965686e-05   1.69165705e-04]]\n",
      "\n",
      "  [[  3.06372549e-05   4.61361015e-05   5.36151961e-05   1.30718954e-04]]\n",
      "\n",
      "  [[  1.30208333e-03   7.68935025e-05   3.06372549e-05   4.61361015e-05]]\n",
      "\n",
      "  [[  3.06372549e-05   3.84467512e-05   3.06372549e-05   1.61476355e-04]]\n",
      "\n",
      "  [[  8.42524510e-05   6.92041522e-05   4.59558824e-05   1.61476355e-04]]\n",
      "\n",
      "  [[  1.23314951e-03   1.85313341e-03   1.88419118e-03   1.63783160e-03]]]\n",
      "\n",
      "\n",
      " [[[  1.57781863e-03   1.73779316e-03   1.27910539e-03   1.53018070e-03]]\n",
      "\n",
      "  [[  2.75735294e-04   1.30718954e-04   8.42524510e-05   1.38408304e-04]]\n",
      "\n",
      "  [[  1.91482843e-04   1.15340254e-04   7.65931373e-05   1.84544406e-04]]\n",
      "\n",
      "  [[  3.06372549e-05   9.99615532e-05   1.53186275e-05   1.15340254e-04]]\n",
      "\n",
      "  [[  3.06372549e-05   3.84467512e-05   3.06372549e-05   1.61476355e-04]]\n",
      "\n",
      "  [[  1.68504902e-04   9.22722030e-05   1.31740196e-03   1.69165705e-04]]\n",
      "\n",
      "  [[  1.53186275e-05   1.07650903e-04   7.65931373e-05   1.84544406e-04]]\n",
      "\n",
      "  [[  2.04503676e-03   2.02998847e-03   1.45526961e-03   1.86851211e-03]]]\n",
      "\n",
      "\n",
      " [[[  1.51654412e-03   2.24529027e-03   1.76930147e-03   1.98385236e-03]]\n",
      "\n",
      "  [[  2.91053922e-04   1.38408304e-04   1.99142157e-04   1.38408304e-04]]\n",
      "\n",
      "  [[  2.29779412e-04   1.15340254e-04   1.53186275e-04   1.53787005e-04]]\n",
      "\n",
      "  [[  1.99142157e-04   1.38408304e-04   9.19117647e-05   1.99923106e-04]]\n",
      "\n",
      "  [[  8.42524510e-05   6.92041522e-05   4.59558824e-05   1.61476355e-04]]\n",
      "\n",
      "  [[  1.53186275e-05   1.07650903e-04   7.65931373e-05   1.84544406e-04]]\n",
      "\n",
      "  [[  1.11825980e-03   2.46059208e-04   1.19485294e-03   1.53787005e-04]]\n",
      "\n",
      "  [[  2.32077206e-03   2.73740869e-03   2.24417892e-03   2.82199154e-03]]]\n",
      "\n",
      "\n",
      " [[[  2.20588235e-03   9.21184160e-03   3.79901961e-03   7.29719339e-03]]\n",
      "\n",
      "  [[  8.73161765e-04   1.18415994e-03   1.23314951e-03   9.22722030e-04]]\n",
      "\n",
      "  [[  1.09528186e-03   2.62975779e-03   2.68841912e-03   2.28373702e-03]]\n",
      "\n",
      "  [[  1.77696078e-03   4.31372549e-03   3.76072304e-03   4.05228758e-03]]\n",
      "\n",
      "  [[  1.23314951e-03   1.85313341e-03   1.88419118e-03   1.63783160e-03]]\n",
      "\n",
      "  [[  2.04503676e-03   2.02998847e-03   1.45526961e-03   1.86851211e-03]]\n",
      "\n",
      "  [[  2.32077206e-03   2.73740869e-03   2.24417892e-03   2.82199154e-03]]\n",
      "\n",
      "  [[  1.48314951e-01   1.36532103e-01   1.42800245e-01   1.39607843e-01]]]]\n",
      "0.0016531944274902344ms\n"
     ]
    }
   ],
   "source": [
    "#start time\n",
    "start = time.time()\n",
    "\n",
    "#make the value of each to 0~4\n",
    "image = (image*8)\n",
    "image = image.astype(int)\n",
    "\n",
    "#calculate GLCM\n",
    "result = skimage.feature.greycomatrix(image, [1], [0, np.pi/4, np.pi/2, 3*np.pi/4], levels = 8, symmetric = True, normed = True)\n",
    "\n",
    "#end time\n",
    "end = time.time()\n",
    "\n",
    "print(result)\n",
    "print(str(end-start) + \"ms\")"
   ]
  },
  {
   "cell_type": "code",
   "execution_count": 26,
   "metadata": {
    "collapsed": false
   },
   "outputs": [
    {
     "data": {
      "text/plain": [
       "7"
      ]
     },
     "execution_count": 26,
     "metadata": {},
     "output_type": "execute_result"
    }
   ],
   "source": [
    "image.max()"
   ]
  },
  {
   "cell_type": "code",
   "execution_count": 27,
   "metadata": {
    "collapsed": false
   },
   "outputs": [
    {
     "data": {
      "text/plain": [
       "(8, 8, 1, 4)"
      ]
     },
     "execution_count": 27,
     "metadata": {},
     "output_type": "execute_result"
    }
   ],
   "source": [
    "result.shape"
   ]
  },
  {
   "cell_type": "code",
   "execution_count": 28,
   "metadata": {
    "collapsed": false
   },
   "outputs": [
    {
     "data": {
      "text/plain": [
       "7"
      ]
     },
     "execution_count": 28,
     "metadata": {},
     "output_type": "execute_result"
    }
   ],
   "source": [
    "image.max()"
   ]
  },
  {
   "cell_type": "code",
   "execution_count": null,
   "metadata": {
    "collapsed": false
   },
   "outputs": [],
   "source": []
  },
  {
   "cell_type": "code",
   "execution_count": null,
   "metadata": {
    "collapsed": true
   },
   "outputs": [],
   "source": []
  }
 ],
 "metadata": {
  "kernelspec": {
   "display_name": "Python 3",
   "language": "python",
   "name": "python3"
  },
  "language_info": {
   "codemirror_mode": {
    "name": "ipython",
    "version": 3
   },
   "file_extension": ".py",
   "mimetype": "text/x-python",
   "name": "python",
   "nbconvert_exporter": "python",
   "pygments_lexer": "ipython3",
   "version": "3.6.0"
  }
 },
 "nbformat": 4,
 "nbformat_minor": 0
}
