{
 "cells": [
  {
   "cell_type": "code",
   "execution_count": 41,
   "metadata": {
    "collapsed": true
   },
   "outputs": [],
   "source": [
    "import skimage.feature\n",
    "import numpy as np\n",
    "import time"
   ]
  },
  {
   "cell_type": "code",
   "execution_count": 46,
   "metadata": {
    "collapsed": false
   },
   "outputs": [],
   "source": [
    "image = np.random.randint(256, size = (256, 256))"
   ]
  },
  {
   "cell_type": "code",
   "execution_count": 47,
   "metadata": {
    "collapsed": false
   },
   "outputs": [
    {
     "data": {
      "text/plain": [
       "array([[170,  90, 144, ...,  43,   9, 145],\n",
       "       [232, 171, 199, ..., 158,  51,   7],\n",
       "       [223,  83, 247, ..., 217,  32, 113],\n",
       "       ..., \n",
       "       [ 39, 185,  61, ..., 210, 123,  94],\n",
       "       [ 19, 139,  95, ...,  46, 213,  15],\n",
       "       [ 95, 197, 229, ..., 197,   3, 174]])"
      ]
     },
     "execution_count": 47,
     "metadata": {},
     "output_type": "execute_result"
    }
   ],
   "source": [
    "image"
   ]
  },
  {
   "cell_type": "code",
   "execution_count": 48,
   "metadata": {
    "collapsed": false
   },
   "outputs": [
    {
     "name": "stdout",
     "output_type": "stream",
     "text": [
      "[[[[4998 5114 5092 4936]]\n",
      "\n",
      "  [[4833 4756 4911 4766]]\n",
      "\n",
      "  [[5133 5078 5036 5120]]\n",
      "\n",
      "  ..., \n",
      "  [[   0    0    0    0]]\n",
      "\n",
      "  [[   0    0    0    0]]\n",
      "\n",
      "  [[   0    0    0    0]]]\n",
      "\n",
      "\n",
      " [[[4833 4756 4911 4766]]\n",
      "\n",
      "  [[4804 4830 4802 4880]]\n",
      "\n",
      "  [[4929 4838 4870 4884]]\n",
      "\n",
      "  ..., \n",
      "  [[   0    0    0    0]]\n",
      "\n",
      "  [[   0    0    0    0]]\n",
      "\n",
      "  [[   0    0    0    0]]]\n",
      "\n",
      "\n",
      " [[[5133 5078 5036 5120]]\n",
      "\n",
      "  [[4929 4838 4870 4884]]\n",
      "\n",
      "  [[4946 5120 5092 5000]]\n",
      "\n",
      "  ..., \n",
      "  [[   0    0    0    0]]\n",
      "\n",
      "  [[   0    0    0    0]]\n",
      "\n",
      "  [[   0    0    0    0]]]\n",
      "\n",
      "\n",
      " ..., \n",
      " [[[   0    0    0    0]]\n",
      "\n",
      "  [[   0    0    0    0]]\n",
      "\n",
      "  [[   0    0    0    0]]\n",
      "\n",
      "  ..., \n",
      "  [[   0    0    0    0]]\n",
      "\n",
      "  [[   0    0    0    0]]\n",
      "\n",
      "  [[   0    0    0    0]]]\n",
      "\n",
      "\n",
      " [[[   0    0    0    0]]\n",
      "\n",
      "  [[   0    0    0    0]]\n",
      "\n",
      "  [[   0    0    0    0]]\n",
      "\n",
      "  ..., \n",
      "  [[   0    0    0    0]]\n",
      "\n",
      "  [[   0    0    0    0]]\n",
      "\n",
      "  [[   0    0    0    0]]]\n",
      "\n",
      "\n",
      " [[[   0    0    0    0]]\n",
      "\n",
      "  [[   0    0    0    0]]\n",
      "\n",
      "  [[   0    0    0    0]]\n",
      "\n",
      "  ..., \n",
      "  [[   0    0    0    0]]\n",
      "\n",
      "  [[   0    0    0    0]]\n",
      "\n",
      "  [[   0    0    0    0]]]]\n",
      "0.0062220096588134766ms\n"
     ]
    }
   ],
   "source": [
    "#start time\n",
    "start = time.time()\n",
    "\n",
    "#make the value of each to 0~4\n",
    "image = (image/50)\n",
    "image.astype(int)\n",
    "\n",
    "#calculate GLCM\n",
    "result = skimage.feature.greycomatrix(image, [1], [0, np.pi/4, np.pi/2, 3*np.pi/4], levels = 256, symmetric = True)\n",
    "\n",
    "#end time\n",
    "end = time.time()\n",
    "\n",
    "print(result)\n",
    "print(str(end-start) + \"ms\")"
   ]
  },
  {
   "cell_type": "code",
   "execution_count": 30,
   "metadata": {
    "collapsed": false
   },
   "outputs": [
    {
     "data": {
      "text/plain": [
       "(256, 256, 1, 4)"
      ]
     },
     "execution_count": 30,
     "metadata": {},
     "output_type": "execute_result"
    }
   ],
   "source": []
  },
  {
   "cell_type": "code",
   "execution_count": 40,
   "metadata": {
    "collapsed": false
   },
   "outputs": [
    {
     "data": {
      "text/plain": [
       "array([[2, 1, 5, ..., 1, 5, 3],\n",
       "       [5, 1, 1, ..., 3, 3, 1],\n",
       "       [5, 2, 5, ..., 2, 1, 4],\n",
       "       ..., \n",
       "       [2, 1, 5, ..., 1, 3, 4],\n",
       "       [5, 5, 4, ..., 1, 4, 5],\n",
       "       [1, 2, 1, ..., 2, 1, 4]])"
      ]
     },
     "execution_count": 40,
     "metadata": {},
     "output_type": "execute_result"
    }
   ],
   "source": []
  },
  {
   "cell_type": "code",
   "execution_count": 39,
   "metadata": {
    "collapsed": false
   },
   "outputs": [
    {
     "data": {
      "text/plain": [
       "array([[119,  99, 172, ..., 161, 147,  16],\n",
       "       [ 62, 217, 226, ..., 155, 120,  74],\n",
       "       [119, 137, 192, ...,  67, 143,   3],\n",
       "       ..., \n",
       "       [137,  10, 222, ...,   4, 121, 154],\n",
       "       [ 44,  33, 101, ..., 210, 151,   8],\n",
       "       [116,  30, 116, ..., 189, 117, 200]])"
      ]
     },
     "execution_count": 39,
     "metadata": {},
     "output_type": "execute_result"
    }
   ],
   "source": []
  },
  {
   "cell_type": "code",
   "execution_count": null,
   "metadata": {
    "collapsed": true
   },
   "outputs": [],
   "source": []
  }
 ],
 "metadata": {
  "kernelspec": {
   "display_name": "Python 3",
   "language": "python",
   "name": "python3"
  },
  "language_info": {
   "codemirror_mode": {
    "name": "ipython",
    "version": 3
   },
   "file_extension": ".py",
   "mimetype": "text/x-python",
   "name": "python",
   "nbconvert_exporter": "python",
   "pygments_lexer": "ipython3",
   "version": "3.5.2"
  }
 },
 "nbformat": 4,
 "nbformat_minor": 0
}
