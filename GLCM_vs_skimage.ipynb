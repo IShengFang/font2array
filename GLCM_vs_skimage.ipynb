{
 "cells": [
  {
   "cell_type": "code",
   "execution_count": 1,
   "metadata": {},
   "outputs": [
    {
     "name": "stderr",
     "output_type": "stream",
     "text": [
      "Using TensorFlow backend.\n"
     ]
    },
    {
     "name": "stdout",
     "output_type": "stream",
     "text": [
      "x_train shape: (60000, 28, 28, 1)\n",
      "60000 train samples\n",
      "10000 test samples\n"
     ]
    }
   ],
   "source": [
    "'''Trains a simple convnet on the MNIST dataset.\n",
    "\n",
    "Gets to 99.25% test accuracy after 12 epochs\n",
    "(there is still a lot of margin for parameter tuning).\n",
    "16 seconds per epoch on a GRID K520 GPU.\n",
    "'''\n",
    "\n",
    "from __future__ import print_function\n",
    "import keras\n",
    "from keras.datasets import mnist\n",
    "from keras.models import Sequential\n",
    "from keras.layers import Dense, Dropout, Flatten, Lambda\n",
    "from keras.layers import Conv2D, MaxPooling2D\n",
    "from keras import backend as K\n",
    "\n",
    "batch_size = 128\n",
    "num_classes = 10\n",
    "epochs = 12\n",
    "\n",
    "# input image dimensions\n",
    "img_rows, img_cols = 28, 28\n",
    "\n",
    "# the data, shuffled and split between train and test sets\n",
    "(x_train, y_train), (x_test, y_test) = mnist.load_data()\n",
    "\n",
    "if K.image_data_format() == 'channels_first':\n",
    "    x_train = x_train.reshape(x_train.shape[0], 1, img_rows, img_cols)\n",
    "    x_test = x_test.reshape(x_test.shape[0], 1, img_rows, img_cols)\n",
    "    input_shape = (1, img_rows, img_cols)\n",
    "else:\n",
    "    x_train = x_train.reshape(x_train.shape[0], img_rows, img_cols, 1)\n",
    "    x_test = x_test.reshape(x_test.shape[0], img_rows, img_cols, 1)\n",
    "    input_shape = (img_rows, img_cols, 1)\n",
    "\n",
    "x_train = x_train.astype('float32')\n",
    "x_test = x_test.astype('float32')\n",
    "x_train /= 255\n",
    "x_test /= 255\n",
    "print('x_train shape:', x_train.shape)\n",
    "print(x_train.shape[0], 'train samples')\n",
    "print(x_test.shape[0], 'test samples')\n",
    "\n",
    "# convert class vectors to binary class matrices\n",
    "y_train = keras.utils.to_categorical(y_train, num_classes)\n",
    "y_test = keras.utils.to_categorical(y_test, num_classes)\n"
   ]
  },
  {
   "cell_type": "code",
   "execution_count": 2,
   "metadata": {},
   "outputs": [],
   "source": [
    "import numpy as np\n",
    "from keras import backend as K\n",
    "from keras.layers import Layer, Input\n",
    "from skimage.feature import greycomatrix\n",
    "import tensorflow as tf\n",
    "\n",
    "class GLCM(Layer):\n",
    "\n",
    "\n",
    "    def __init__(self, BATCH_SIZE = 100, d = [1], theta = [0], levels = 256, symmetric = True, normed = True, **kwargs ):\n",
    "        super(GLCM, self).__init__(**kwargs)\n",
    "        self.d = d\n",
    "        self.theta = theta\n",
    "        self.levels = levels\n",
    "        self.symmetric = symmetric\n",
    "        self.normed = normed\n",
    "        self.batch_size = BATCH_SIZE\n",
    "\n",
    "    def compute_output_shape(self, input_shape):\n",
    "\n",
    "        return (self.batch_size, 4)\n",
    "\n",
    "    def binarization(self, x):\n",
    "        bi_x = K.sign(x)\n",
    "        return bi_x\n",
    "    \n",
    "    def call(self, inputs):\n",
    "        #make input becomes a binarized image\n",
    "        image = self.binarization(inputs)\n",
    "\n",
    "        #calculate GLCM(in a batch shape)\n",
    "        a = image[:, :, :-1, :]\n",
    "        b = image[:, :, 1:, :]\n",
    "\n",
    "        a_or_b = K.maximum(a, b)\n",
    "        a_and_b = a*b\n",
    "\n",
    "        one = tf.ones(shape = a.shape)\n",
    "\n",
    "        not_a = one-a\n",
    "        not_b = one-b\n",
    "\n",
    "        # not(a or b)\n",
    "        M0_0 = K.map_fn(K.sum, (one-a_or_b))\n",
    "\n",
    "        # b and (not a)\n",
    "        M0_1 = K.map_fn(K.sum, (b*(not_a)))\n",
    "\n",
    "        # a and (not b)\n",
    "        M1_0 = K.map_fn(K.sum, (a*(not_b)))\n",
    "\n",
    "        # a and b\n",
    "        M1_1 = K.map_fn(K.sum, (a_and_b))\n",
    "\n",
    "\n",
    "        output = tf.stack([M0_0, M0_1, M1_0, M1_1], axis = 1)\n",
    "\n",
    "        \n",
    "        #print(\"output shape: \", output.shape)\n",
    "        \n",
    "        return output"
   ]
  },
  {
   "cell_type": "code",
   "execution_count": 3,
   "metadata": {},
   "outputs": [],
   "source": [
    "x_train = np.random.randint(2, size=(1, 28, 28, 1))"
   ]
  },
  {
   "cell_type": "code",
   "execution_count": 4,
   "metadata": {},
   "outputs": [],
   "source": [
    "x = Input(batch_shape=(1, 28, 28, 1))\n",
    "y = GLCM()(x)"
   ]
  },
  {
   "cell_type": "code",
   "execution_count": 5,
   "metadata": {},
   "outputs": [
    {
     "data": {
      "text/plain": [
       "[array([[ 201.,  193.,  192.,  170.]], dtype=float32)]"
      ]
     },
     "execution_count": 5,
     "metadata": {},
     "output_type": "execute_result"
    }
   ],
   "source": [
    "result = K.function([x], [y])([x_train])\n",
    "result"
   ]
  },
  {
   "cell_type": "code",
   "execution_count": 6,
   "metadata": {},
   "outputs": [
    {
     "data": {
      "text/plain": [
       "array([[[[201]],\n",
       "\n",
       "        [[193]]],\n",
       "\n",
       "\n",
       "       [[[192]],\n",
       "\n",
       "        [[170]]]], dtype=uint32)"
      ]
     },
     "execution_count": 6,
     "metadata": {},
     "output_type": "execute_result"
    }
   ],
   "source": [
    "result = greycomatrix(x_train.reshape([28, 28]),\n",
    "                      [1],\n",
    "                      [0],\n",
    "                      levels = 2,\n",
    "                      symmetric = False,\n",
    "                      normed = False)\n",
    "result"
   ]
  },
  {
   "cell_type": "code",
   "execution_count": null,
   "metadata": {
    "collapsed": true
   },
   "outputs": [],
   "source": []
  }
 ],
 "metadata": {
  "kernelspec": {
   "display_name": "Python 3",
   "language": "python",
   "name": "python3"
  },
  "language_info": {
   "codemirror_mode": {
    "name": "ipython",
    "version": 3
   },
   "file_extension": ".py",
   "mimetype": "text/x-python",
   "name": "python",
   "nbconvert_exporter": "python",
   "pygments_lexer": "ipython3",
   "version": "3.6.1"
  }
 },
 "nbformat": 4,
 "nbformat_minor": 1
}
