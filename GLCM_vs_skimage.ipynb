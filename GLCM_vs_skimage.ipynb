{
 "cells": [
  {
   "cell_type": "code",
   "execution_count": 1,
   "metadata": {},
   "outputs": [
    {
     "name": "stderr",
     "output_type": "stream",
     "text": [
      "Using TensorFlow backend.\n"
     ]
    }
   ],
   "source": [
    "import numpy as np\n",
    "from keras import backend as K\n",
    "from keras.layers import Layer, Input\n",
    "from skimage.feature import greycomatrix\n",
    "import tensorflow as tf\n",
    "\n",
    "class GLCM(Layer):\n",
    "\n",
    "\n",
    "    def __init__(self, BATCH_SIZE = 100, distance = 1, angle = 0, levels = 2, symmetric = True, normed = True, **kwargs ):\n",
    "        super(GLCM, self).__init__(**kwargs)\n",
    "        self.distance = distance\n",
    "        self.angle = angle\n",
    "        self.levels = levels\n",
    "        self.symmetric = symmetric\n",
    "        self.normed = normed\n",
    "        self.batch_size = BATCH_SIZE\n",
    "\n",
    "    def compute_output_shape(self, input_shape):\n",
    "\n",
    "        return (self.batch_size, 4)\n",
    "\n",
    "    def binarization(self, x):\n",
    "        bi_x = K.sign(x)\n",
    "        return bi_x\n",
    "    \n",
    "    def call(self, inputs):\n",
    "        #make input becomes a binarized image\n",
    "        image = self.binarization(inputs)\n",
    "\n",
    "        #calculate GLCM(in a batch shape)\n",
    "        rows = image.shape[1].value\n",
    "        cols = image.shape[2].value\n",
    "                \n",
    "        row = int(round(np.sin(self.angle))) * self.distance\n",
    "        col = int(round(np.cos(self.angle))) * self.distance\n",
    "        if col > 0:\n",
    "            a = image[:, :rows-row, :cols-col, :]\n",
    "            b = image[:, row:, col:, :]\n",
    "        else:\n",
    "            a = image[:, :rows-row, -col:, :]\n",
    "            b = image[:, row:, :cols+col, :]\n",
    "\n",
    "        a_or_b = K.maximum(a, b)\n",
    "        a_and_b = a*b\n",
    "\n",
    "        one = tf.ones(shape = a.shape)\n",
    "\n",
    "        not_a = one-a\n",
    "        not_b = one-b\n",
    "\n",
    "        # not(a or b)\n",
    "        M0_0 = K.map_fn(K.sum, (one-a_or_b))\n",
    "\n",
    "        # b and (not a)\n",
    "        M0_1 = K.map_fn(K.sum, (b*(not_a)))\n",
    "\n",
    "        # a and (not b)\n",
    "        M1_0 = K.map_fn(K.sum, (a*(not_b)))\n",
    "\n",
    "        # a and b\n",
    "        M1_1 = K.map_fn(K.sum, (a_and_b))\n",
    "        \n",
    "        if self.symmetric:\n",
    "            temp = tf.stack([M0_0*2, M0_1+M1_0, M0_1+M1_0, M1_1*2], axis = 1)\n",
    "            if self.normed:\n",
    "                output = temp / K.reshape(K.sum(temp, axis=1), (2, 1))\n",
    "            else:\n",
    "                output = temp\n",
    "        else:\n",
    "            temp = tf.stack([M0_0, M0_1, M1_0, M1_1], axis = 1)\n",
    "            if self.normed:\n",
    "                output = temp / K.reshape(K.sum(temp, axis=1), (2, 1))\n",
    "            else:\n",
    "                output = temp\n",
    "\n",
    "        \n",
    "        #print(\"output shape: \", output.shape)\n",
    "        \n",
    "        return output"
   ]
  },
  {
   "cell_type": "code",
   "execution_count": 2,
   "metadata": {
    "collapsed": true
   },
   "outputs": [],
   "source": [
    "x_train = np.random.randint(2, size=(2, 28, 28, 1))"
   ]
  },
  {
   "cell_type": "code",
   "execution_count": 3,
   "metadata": {},
   "outputs": [],
   "source": [
    "x = Input(batch_shape=(2, 28, 28, 1))\n",
    "y = GLCM(distance=4, angle=np.pi/2, symmetric=False, normed=True)(x)"
   ]
  },
  {
   "cell_type": "code",
   "execution_count": 4,
   "metadata": {},
   "outputs": [
    {
     "data": {
      "text/plain": [
       "[array([[ 0.24404761,  0.25595239,  0.26190478,  0.23809524],\n",
       "        [ 0.26190478,  0.24702381,  0.23214285,  0.25892857]], dtype=float32)]"
      ]
     },
     "execution_count": 4,
     "metadata": {},
     "output_type": "execute_result"
    }
   ],
   "source": [
    "result = K.function([x], [y])([x_train])\n",
    "result"
   ]
  },
  {
   "cell_type": "code",
   "execution_count": 5,
   "metadata": {},
   "outputs": [
    {
     "data": {
      "text/plain": [
       "array([[[[ 0.26190476]],\n",
       "\n",
       "        [[ 0.24702381]]],\n",
       "\n",
       "\n",
       "       [[[ 0.23214286]],\n",
       "\n",
       "        [[ 0.25892857]]]])"
      ]
     },
     "execution_count": 5,
     "metadata": {},
     "output_type": "execute_result"
    }
   ],
   "source": [
    "result = greycomatrix(x_train[1].reshape([28, 28]),\n",
    "                      [4],\n",
    "                      [np.pi/2],\n",
    "                      levels = 2,\n",
    "                      symmetric = False,\n",
    "                      normed = True)\n",
    "result"
   ]
  }
 ],
 "metadata": {
  "kernelspec": {
   "display_name": "Python 3",
   "language": "python",
   "name": "python3"
  },
  "language_info": {
   "codemirror_mode": {
    "name": "ipython",
    "version": 3
   },
   "file_extension": ".py",
   "mimetype": "text/x-python",
   "name": "python",
   "nbconvert_exporter": "python",
   "pygments_lexer": "ipython3",
   "version": "3.6.1"
  }
 },
 "nbformat": 4,
 "nbformat_minor": 1
}
