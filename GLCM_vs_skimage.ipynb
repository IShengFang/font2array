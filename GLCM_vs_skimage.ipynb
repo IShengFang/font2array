{
 "cells": [
  {
   "cell_type": "code",
   "execution_count": 1,
   "metadata": {},
   "outputs": [
    {
     "name": "stderr",
     "output_type": "stream",
     "text": [
      "Using TensorFlow backend.\n"
     ]
    }
   ],
   "source": [
    "import numpy as np\n",
    "from keras import backend as K\n",
    "from keras.layers import Layer, Input\n",
    "from skimage.feature import greycomatrix\n",
    "import tensorflow as tf\n",
    "\n",
    "class GLCM(Layer):\n",
    "\n",
    "\n",
    "    def __init__(self, BATCH_SIZE = 100, distance = 1, angle = 0, levels = 2, symmetric = True, normed = True, **kwargs ):\n",
    "        super(GLCM, self).__init__(**kwargs)\n",
    "        self.distance = distance\n",
    "        self.angle = angle\n",
    "        self.levels = levels\n",
    "        self.symmetric = symmetric\n",
    "        self.normed = normed\n",
    "        self.batch_size = BATCH_SIZE\n",
    "\n",
    "    def compute_output_shape(self, input_shape):\n",
    "\n",
    "        return (self.batch_size, 4)\n",
    "\n",
    "    def binarization(self, x):\n",
    "        bi_x = K.sign(x)\n",
    "        return bi_x\n",
    "    \n",
    "    def call(self, inputs):\n",
    "        #make input becomes a binarized image\n",
    "        image = self.binarization(inputs)\n",
    "\n",
    "        #calculate GLCM(in a batch shape)\n",
    "        rows = image.shape[1].value\n",
    "        cols = image.shape[2].value\n",
    "                \n",
    "        row = int(round(np.sin(self.angle))) * self.distance\n",
    "        col = int(round(np.cos(self.angle))) * self.distance\n",
    "        if col > 0:\n",
    "            a = image[:, :rows-row, :cols-col, :]\n",
    "            b = image[:, row:, col:, :]\n",
    "        else:\n",
    "            a = image[:, :rows-row, -col:, :]\n",
    "            b = image[:, row:, :cols+col, :]\n",
    "\n",
    "        a_or_b = K.maximum(a, b)\n",
    "        a_and_b = a*b\n",
    "\n",
    "        one = tf.ones(shape = a.shape)\n",
    "\n",
    "        not_a = one-a\n",
    "        not_b = one-b\n",
    "\n",
    "        # not(a or b)\n",
    "        M0_0 = K.map_fn(K.sum, (one-a_or_b))\n",
    "\n",
    "        # b and (not a)\n",
    "        M0_1 = K.map_fn(K.sum, (b*(not_a)))\n",
    "\n",
    "        # a and (not b)\n",
    "        M1_0 = K.map_fn(K.sum, (a*(not_b)))\n",
    "\n",
    "        # a and b\n",
    "        M1_1 = K.map_fn(K.sum, (a_and_b))\n",
    "        \n",
    "        if self.symmetric:\n",
    "            temp = tf.stack([M0_0*2, M0_1+M1_0, M0_1+M1_0, M1_1*2], axis = 1)\n",
    "            if self.normed:\n",
    "                output = temp / K.map_fn(K.sum, (temp))\n",
    "            else:\n",
    "                output = temp\n",
    "        else:\n",
    "            temp = tf.stack([M0_0, M0_1, M1_0, M1_1], axis = 1)\n",
    "            if self.normed:\n",
    "                output = temp / K.map_fn(K.sum, (temp))\n",
    "            else:\n",
    "                output = temp\n",
    "\n",
    "        \n",
    "        #print(\"output shape: \", output.shape)\n",
    "        \n",
    "        return output"
   ]
  },
  {
   "cell_type": "code",
   "execution_count": 2,
   "metadata": {
    "collapsed": true
   },
   "outputs": [],
   "source": [
    "x_train = np.random.randint(2, size=(1, 28, 28, 1))"
   ]
  },
  {
   "cell_type": "code",
   "execution_count": 3,
   "metadata": {
    "collapsed": true
   },
   "outputs": [],
   "source": [
    "x = Input(batch_shape=(1, 28, 28, 1))\n",
    "y = GLCM(distance=1, angle=3*np.pi/4, symmetric=False, normed=False)(x)"
   ]
  },
  {
   "cell_type": "code",
   "execution_count": 4,
   "metadata": {},
   "outputs": [
    {
     "data": {
      "text/plain": [
       "[array([[ 171.,  179.,  179.,  200.]], dtype=float32)]"
      ]
     },
     "execution_count": 4,
     "metadata": {},
     "output_type": "execute_result"
    }
   ],
   "source": [
    "result = K.function([x], [y])([x_train])\n",
    "result"
   ]
  },
  {
   "cell_type": "code",
   "execution_count": 5,
   "metadata": {},
   "outputs": [
    {
     "data": {
      "text/plain": [
       "array([[[[179, 178, 172, 171],\n",
       "         [179, 178, 170, 171],\n",
       "         [184, 162, 167, 162]],\n",
       "\n",
       "        [[188, 174, 193, 179],\n",
       "         [174, 174, 183, 179],\n",
       "         [160, 166, 169, 168]]],\n",
       "\n",
       "\n",
       "       [[[186, 169, 190, 179],\n",
       "         [177, 169, 180, 179],\n",
       "         [157, 164, 165, 164]],\n",
       "\n",
       "        [[203, 208, 201, 200],\n",
       "         [198, 208, 195, 200],\n",
       "         [199, 184, 199, 182]]]], dtype=uint32)"
      ]
     },
     "execution_count": 5,
     "metadata": {},
     "output_type": "execute_result"
    }
   ],
   "source": [
    "result = greycomatrix(x_train.reshape([28, 28]),\n",
    "                      [1, 2, 3],\n",
    "                      [0, np.pi/4, np.pi/2, 3*np.pi/4],\n",
    "                      levels = 2,\n",
    "                      symmetric = False,\n",
    "                      normed = False)\n",
    "result"
   ]
  },
  {
   "cell_type": "code",
   "execution_count": null,
   "metadata": {
    "collapsed": true
   },
   "outputs": [],
   "source": []
  }
 ],
 "metadata": {
  "kernelspec": {
   "display_name": "Python 3",
   "language": "python",
   "name": "python3"
  },
  "language_info": {
   "codemirror_mode": {
    "name": "ipython",
    "version": 3
   },
   "file_extension": ".py",
   "mimetype": "text/x-python",
   "name": "python",
   "nbconvert_exporter": "python",
   "pygments_lexer": "ipython3",
   "version": "3.6.1"
  }
 },
 "nbformat": 4,
 "nbformat_minor": 1
}
